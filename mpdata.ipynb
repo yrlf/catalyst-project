{
 "cells": [
  {
   "cell_type": "markdown",
   "metadata": {},
   "source": [
    "# Materials Project Data Extraction"
   ]
  },
  {
   "cell_type": "code",
   "execution_count": 1,
   "metadata": {},
   "outputs": [
    {
     "name": "stdout",
     "output_type": "stream",
     "text": [
      "No module named 'phonopy'\n",
      "No module named 'phonopy'\n"
     ]
    }
   ],
   "source": [
    "from mp_api.client import MPRester\n",
    "API_KEY ='YUgbwowwn50V8bL2u8H3u8mvIVchWLpL'"
   ]
  },
  {
   "cell_type": "code",
   "execution_count": 2,
   "metadata": {},
   "outputs": [
    {
     "data": {
      "application/vnd.jupyter.widget-view+json": {
       "model_id": "a5dcc8ef993f4c4d9c1081a94b382aea",
       "version_major": 2,
       "version_minor": 0
      },
      "text/plain": [
       "Retrieving SummaryDoc documents:   0%|          | 0/12 [00:00<?, ?it/s]"
      ]
     },
     "metadata": {},
     "output_type": "display_data"
    }
   ],
   "source": [
    "\n",
    "material_ids = []\n",
    "material_docs = []\n",
    "with MPRester(API_KEY) as mpr:\n",
    "    docs =  mpr.materials.summary.search(elements=[\"C\", \"S\"], \n",
    "                              num_elements =(2,2))\n",
    "    for doc in docs:\n",
    "        material_docs.append(doc)\n",
    "        material_ids.append(doc.material_id)\n",
    "        "
   ]
  },
  {
   "cell_type": "code",
   "execution_count": 4,
   "metadata": {},
   "outputs": [
    {
     "data": {
      "application/vnd.jupyter.widget-view+json": {
       "model_id": "74065b6fd27d4108bd9059604998a10f",
       "version_major": 2,
       "version_minor": 0
      },
      "text/plain": [
       "Retrieving MaterialsDoc documents:   0%|          | 0/1 [00:00<?, ?it/s]"
      ]
     },
     "metadata": {},
     "output_type": "display_data"
    },
    {
     "data": {
      "application/vnd.jupyter.widget-view+json": {
       "model_id": "5c227ce938964f21b8ce2d6fea638ce3",
       "version_major": 2,
       "version_minor": 0
      },
      "text/plain": [
       "Retrieving MaterialsDoc documents:   0%|          | 0/1 [00:00<?, ?it/s]"
      ]
     },
     "metadata": {},
     "output_type": "display_data"
    },
    {
     "data": {
      "application/vnd.jupyter.widget-view+json": {
       "model_id": "7d83853fd99e45ae90ca4e5eebccd7eb",
       "version_major": 2,
       "version_minor": 0
      },
      "text/plain": [
       "Retrieving MaterialsDoc documents:   0%|          | 0/1 [00:00<?, ?it/s]"
      ]
     },
     "metadata": {},
     "output_type": "display_data"
    },
    {
     "data": {
      "application/vnd.jupyter.widget-view+json": {
       "model_id": "64435901a2114f9ab679707b3a0c99e9",
       "version_major": 2,
       "version_minor": 0
      },
      "text/plain": [
       "Retrieving MaterialsDoc documents:   0%|          | 0/1 [00:00<?, ?it/s]"
      ]
     },
     "metadata": {},
     "output_type": "display_data"
    },
    {
     "data": {
      "application/vnd.jupyter.widget-view+json": {
       "model_id": "b48113dbf0d149719253929b058b5a2f",
       "version_major": 2,
       "version_minor": 0
      },
      "text/plain": [
       "Retrieving MaterialsDoc documents:   0%|          | 0/1 [00:00<?, ?it/s]"
      ]
     },
     "metadata": {},
     "output_type": "display_data"
    },
    {
     "data": {
      "application/vnd.jupyter.widget-view+json": {
       "model_id": "d5709aacc5f94656ab09639a5336ac7b",
       "version_major": 2,
       "version_minor": 0
      },
      "text/plain": [
       "Retrieving MaterialsDoc documents:   0%|          | 0/1 [00:00<?, ?it/s]"
      ]
     },
     "metadata": {},
     "output_type": "display_data"
    },
    {
     "data": {
      "application/vnd.jupyter.widget-view+json": {
       "model_id": "94a9140dc3004e48bf847602ade95eae",
       "version_major": 2,
       "version_minor": 0
      },
      "text/plain": [
       "Retrieving MaterialsDoc documents:   0%|          | 0/1 [00:00<?, ?it/s]"
      ]
     },
     "metadata": {},
     "output_type": "display_data"
    },
    {
     "data": {
      "application/vnd.jupyter.widget-view+json": {
       "model_id": "7cbb0bd46c244339b4d1fa8866ec5af0",
       "version_major": 2,
       "version_minor": 0
      },
      "text/plain": [
       "Retrieving MaterialsDoc documents:   0%|          | 0/1 [00:00<?, ?it/s]"
      ]
     },
     "metadata": {},
     "output_type": "display_data"
    },
    {
     "data": {
      "application/vnd.jupyter.widget-view+json": {
       "model_id": "1bab7719a49d409c8d43d7618a7942dd",
       "version_major": 2,
       "version_minor": 0
      },
      "text/plain": [
       "Retrieving MaterialsDoc documents:   0%|          | 0/1 [00:00<?, ?it/s]"
      ]
     },
     "metadata": {},
     "output_type": "display_data"
    },
    {
     "data": {
      "application/vnd.jupyter.widget-view+json": {
       "model_id": "5e5ccca4c3fa43abb0691e2c6f863cbf",
       "version_major": 2,
       "version_minor": 0
      },
      "text/plain": [
       "Retrieving MaterialsDoc documents:   0%|          | 0/1 [00:00<?, ?it/s]"
      ]
     },
     "metadata": {},
     "output_type": "display_data"
    },
    {
     "data": {
      "application/vnd.jupyter.widget-view+json": {
       "model_id": "c30463bd40134b829aeb958f22136231",
       "version_major": 2,
       "version_minor": 0
      },
      "text/plain": [
       "Retrieving MaterialsDoc documents:   0%|          | 0/1 [00:00<?, ?it/s]"
      ]
     },
     "metadata": {},
     "output_type": "display_data"
    },
    {
     "data": {
      "application/vnd.jupyter.widget-view+json": {
       "model_id": "2a4e6a8a87284617a9fdfdc742ab1d1a",
       "version_major": 2,
       "version_minor": 0
      },
      "text/plain": [
       "Retrieving MaterialsDoc documents:   0%|          | 0/1 [00:00<?, ?it/s]"
      ]
     },
     "metadata": {},
     "output_type": "display_data"
    }
   ],
   "source": [
    "from pymatgen.ext.matproj import MPRester\n",
    "from pymatgen.io.vasp.sets import Poscar\n",
    "for material_id in material_ids:\n",
    "    with MPRester(API_KEY) as mpr:\n",
    "        structure = mpr.materials.get_structure_by_material_id(material_id)\n",
    "        # 生成POSCAR对象\n",
    "        poscar = Poscar(structure)\n",
    "        # 将POSCAR对象写入文件\n",
    "        poscar.write_file(\"poscar/POSCAR_{}.vasp\".format(material_id))\n",
    "        "
   ]
  },
  {
   "cell_type": "code",
   "execution_count": null,
   "metadata": {},
   "outputs": [],
   "source": []
  },
  {
   "cell_type": "code",
   "execution_count": 15,
   "metadata": {},
   "outputs": [
    {
     "name": "stdout",
     "output_type": "stream",
     "text": [
      "Data successfully written to materials_information.xlsx\n"
     ]
    }
   ],
   "source": [
    "import pandas as pd\n",
    "\n",
    "# Assuming material_docs and material_ids are already defined and populated with your data\n",
    "data_rows = []\n",
    "\n",
    "# Validate that we have materials to process and that material_ids are provided\n",
    "if material_docs and material_ids and len(material_docs) == len(material_ids):\n",
    "    # Generate column names from the attributes of the first document, excluding 'material_id'\n",
    "    columns = [attr for attr in dir(material_docs[0]) if not attr.startswith('__') and not callable(getattr(material_docs[0], attr))]\n",
    "    \n",
    "    # Construct data rows by combining material_ids with other attributes of documents\n",
    "    for material_id, doc in zip(material_ids, material_docs):\n",
    "        row = [material_id] + [getattr(doc, col) for col in columns if hasattr(doc, col)]\n",
    "        data_rows.append(row)\n",
    "    \n",
    "    # Create DataFrame with 'material_id' as the first column\n",
    "    df = pd.DataFrame(data_rows, columns=['material_id'] + columns)\n",
    "\n",
    "    filename = 'materials_information.xlsx'\n",
    "    df.to_excel(filename, index=False)\n",
    "\n",
    "    print(f'Data successfully written to {filename}')\n",
    "else:\n",
    "    print(\"Check that material_docs and material_ids are properly defined and have matching lengths.\")\n"
   ]
  },
  {
   "cell_type": "code",
   "execution_count": 18,
   "metadata": {},
   "outputs": [
    {
     "name": "stdout",
     "output_type": "stream",
     "text": [
      "Inserted 12 documents into MongoDB.\n"
     ]
    }
   ],
   "source": [
    "from server.app.pymongo import MongoClient\n",
    "import pandas as pd\n",
    "\n",
    "# Connect to MongoDB\n",
    "client = MongoClient(host='0.0.0.0', port=27017)  # Adjust host and port as necessary\n",
    "db = client['materialdb']  # Database name\n",
    "collection = db['materials_collection']  # Collection name\n",
    "\n",
    "# Load Excel file\n",
    "filename = 'materials_information.xlsx'  # Update this to the path of your Excel file\n",
    "df = pd.read_excel(filename)\n",
    "\n",
    "# Convert DataFrame to dictionary and insert into MongoDB\n",
    "documents = df.to_dict(orient='records')  # Converts each row to a dictionary with column names as keys\n",
    "\n",
    "# Insert documents into MongoDB\n",
    "result = collection.insert_many(documents)\n",
    "\n",
    "# Print the result of the insertion\n",
    "print(f\"Inserted {len(result.inserted_ids)} documents into MongoDB.\")\n"
   ]
  },
  {
   "cell_type": "code",
   "execution_count": 23,
   "metadata": {},
   "outputs": [],
   "source": [
    "def convert_to_poscar(input_text):\n",
    "    lines = input_text.strip().split('\\n')\n",
    "    try:\n",
    "        scaling_factor = float(lines[1].strip())\n",
    "        lattice_vectors = lines[2:5]\n",
    "        species_line = lines[6]\n",
    "        count_line = lines[7]\n",
    "        positions = lines[9:]\n",
    "\n",
    "        # Process lattice vectors\n",
    "        formatted_lattice_vectors = [\n",
    "            f\"{float(vec.split()[0]):>20.10f} {float(vec.split()[1]):>20.10f} {float(vec.split()[2]):>20.10f}\"\n",
    "            for vec in lattice_vectors\n",
    "        ]\n",
    "\n",
    "        # Process species and counts\n",
    "        species = species_line.strip().split()\n",
    "        counts = count_line.strip().split()\n",
    "        species_count = zip(species, counts)\n",
    "\n",
    "        # Format header information\n",
    "        poscar_output = [\n",
    "            \"POSCAR(15)\",\n",
    "            f\"{scaling_factor:.1f}\",\n",
    "            *formatted_lattice_vectors,\n",
    "            \"   \" + \"    \".join(species),\n",
    "            \"   \" + \"    \".join(counts),\n",
    "            \"Direct\"\n",
    "        ]\n",
    "\n",
    "        # Process and format positions\n",
    "        formatted_positions = [\n",
    "            f\"{float(pos.split()[0]):>16.10f} {float(pos.split()[1]):>16.10f} {float(pos.split()[2]):>16.10f} {pos.split()[3]}\"\n",
    "            for pos in positions if pos.strip()  # Ensure there's data on the line\n",
    "        ]\n",
    "        poscar_output.extend(formatted_positions)\n",
    "\n",
    "        return \"\\n\".join(poscar_output)\n",
    "\n",
    "    except IndexError as e:\n",
    "        return f\"Error processing input: {str(e)}\"\n",
    "    except ValueError as e:\n",
    "        return f\"Error processing numbers: {str(e)}\"\n"
   ]
  },
  {
   "cell_type": "code",
   "execution_count": 25,
   "metadata": {},
   "outputs": [
    {
     "data": {
      "text/plain": [
       "'POSCAR(15)\\n1.0\\n       18.5068620000         7.8089940000         0.0000000000\\n      -18.5068620000         7.8089940000         0.0000000000\\n        0.0000000000         0.6499130000        16.4418430000\\n   1    30\\n   direct\\nDirect\\n    0.5257850000     0.4744880000     0.2660380000 S\\n    0.4742150000     0.5255120000     0.7339620000 S\\n    0.4607620000     0.2627350000     0.5372990000 S\\n    0.5255120000     0.4742150000     0.7339620000 S\\n    0.5392380000     0.7372650000     0.4627010000 S\\n    0.4744880000     0.5257850000     0.2660380000 S\\n    0.2546660000     0.5261160000     0.4598930000 S\\n    0.7372650000     0.5392380000     0.4627010000 S\\n    0.7453340000     0.4738840000     0.5401070000 S\\n    0.2627350000     0.4607620000     0.5372990000 S\\n    0.4738840000     0.7453340000     0.5401070000 S\\n    0.5261160000     0.2546660000     0.4598930000 S\\n    0.0049790000     0.3169380000     0.4996920000 S\\n    0.9950210000     0.6830620000     0.5003080000 S\\n    0.3426900000     0.5352830000     0.0000910000 S\\n    0.6830620000     0.9950210000     0.5003080000 S\\n    0.6573100000     0.4647170000     0.9999090000 S\\n    0.3169380000     0.0049790000     0.4996920000 S\\n    0.4997530000     0.0000840000     0.3134800000 S\\n    0.4647170000     0.6573100000     0.9999090000 S\\n    0.5002470000     0.9999160000     0.6865200000 S\\n    0.5352830000     0.3426900000     0.0000910000 S\\n    0.9999160000     0.5002470000     0.6865200000 S\\n    0.0000840000     0.4997530000     0.3134800000 S\\n    0.9977680000     0.9977680000     0.0944910000 S\\n    0.0022320000     0.0022320000     0.9055090000 S\\n    0.9678220000     0.1538000000     0.9985140000 S\\n    0.0321780000     0.8462000000     0.0014860000 S\\n    0.1538000000     0.9678220000     0.9985140000 S\\n    0.8462000000     0.0321780000     0.0014860000 S'"
      ]
     },
     "execution_count": 25,
     "metadata": {},
     "output_type": "execute_result"
    }
   ],
   "source": [
    "old =\"\"\"C1 S30\n",
    "1.0\n",
    "  18.5068620000000017    7.8089940000000002    0.0000000000000000\n",
    " -18.5068620000000017    7.8089940000000002    0.0000000000000000\n",
    "   0.0000000000000000    0.6499130000000000   16.4418429999999987\n",
    "C S\n",
    "1 30\n",
    "direct\n",
    "   0.0000000000000000    0.0000000000000000    0.0000000000000000 C\n",
    "   0.5257849999999999    0.4744880000000000    0.2660380000000000 S\n",
    "   0.4742150000000000    0.5255120000000000    0.7339620000000000 S\n",
    "   0.4607620000000000    0.2627350000000000    0.5372990000000000 S\n",
    "   0.5255120000000000    0.4742150000000000    0.7339620000000000 S\n",
    "   0.5392380000000000    0.7372649999999999    0.4627010000000000 S\n",
    "   0.4744880000000000    0.5257849999999999    0.2660380000000000 S\n",
    "   0.2546660000000000    0.5261160000000000    0.4598930000000000 S\n",
    "   0.7372649999999999    0.5392380000000000    0.4627010000000000 S\n",
    "   0.7453340000000001    0.4738840000000000    0.5401070000000000 S\n",
    "   0.2627350000000000    0.4607620000000000    0.5372990000000000 S\n",
    "   0.4738840000000000    0.7453340000000001    0.5401070000000000 S\n",
    "   0.5261160000000000    0.2546660000000000    0.4598930000000000 S\n",
    "   0.0049790000000000    0.3169380000000000    0.4996920000000000 S\n",
    "   0.9950210000000000    0.6830619999999999    0.5003080000000000 S\n",
    "   0.3426900000000000    0.5352830000000000    0.0000910000000000 S\n",
    "   0.6830619999999999    0.9950210000000000    0.5003080000000000 S\n",
    "   0.6573099999999999    0.4647170000000000    0.9999090000000000 S\n",
    "   0.3169380000000000    0.0049790000000000    0.4996920000000000 S\n",
    "   0.4997530000000000    0.0000840000000000    0.3134800000000000 S\n",
    "   0.4647170000000000    0.6573099999999999    0.9999090000000000 S\n",
    "   0.5002470000000000    0.9999160000000000    0.6865200000000000 S\n",
    "   0.5352830000000000    0.3426900000000000    0.0000910000000000 S\n",
    "   0.9999160000000000    0.5002470000000000    0.6865200000000000 S\n",
    "   0.0000840000000000    0.4997530000000000    0.3134800000000000 S\n",
    "   0.9977680000000000    0.9977680000000000    0.0944910000000000 S\n",
    "   0.0022320000000000    0.0022320000000000    0.9055090000000000 S\n",
    "   0.9678220000000000    0.1538000000000000    0.9985140000000000 S\n",
    "   0.0321780000000000    0.8462000000000000    0.0014860000000000 S\n",
    "   0.1538000000000000    0.9678220000000000    0.9985140000000000 S\n",
    "   0.8462000000000000    0.0321780000000000    0.0014860000000000 S\n",
    "\"\"\"\n",
    "\n",
    "new = convert_to_poscar(old)\n",
    "# write new into a file\n",
    "with open('new_poscar.vasp', 'w') as f:\n",
    "    f.write(new)"
   ]
  },
  {
   "cell_type": "code",
   "execution_count": null,
   "metadata": {},
   "outputs": [],
   "source": [
    "list_of_available_fields"
   ]
  }
 ],
 "metadata": {
  "kernelspec": {
   "display_name": "base",
   "language": "python",
   "name": "python3"
  },
  "language_info": {
   "codemirror_mode": {
    "name": "ipython",
    "version": 3
   },
   "file_extension": ".py",
   "mimetype": "text/x-python",
   "name": "python",
   "nbconvert_exporter": "python",
   "pygments_lexer": "ipython3",
   "version": "3.9.18"
  },
  "orig_nbformat": 4
 },
 "nbformat": 4,
 "nbformat_minor": 2
}
