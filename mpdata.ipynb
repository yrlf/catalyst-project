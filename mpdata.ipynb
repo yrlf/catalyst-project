{
 "cells": [
  {
   "cell_type": "markdown",
   "metadata": {},
   "source": [
    "# Materials Project Data Extraction"
   ]
  },
  {
   "cell_type": "code",
   "execution_count": 22,
   "metadata": {},
   "outputs": [
    {
     "name": "stdout",
     "output_type": "stream",
     "text": [
      "No module named 'phonopy'\n",
      "No module named 'phonopy'\n"
     ]
    }
   ],
   "source": [
    "from mp_api.client import MPRester\n",
    "API_KEY ='YUgbwowwn50V8bL2u8H3u8mvIVchWLpL'"
   ]
  },
  {
   "cell_type": "code",
   "execution_count": 23,
   "metadata": {},
   "outputs": [
    {
     "data": {
      "application/vnd.jupyter.widget-view+json": {
       "model_id": "c9db54c0d709468c9a9cb4f7fb7068b8",
       "version_major": 2,
       "version_minor": 0
      },
      "text/plain": [
       "Retrieving SummaryDoc documents:   0%|          | 0/12 [00:00<?, ?it/s]"
      ]
     },
     "metadata": {},
     "output_type": "display_data"
    }
   ],
   "source": [
    "\n",
    "material_ids = []\n",
    "material_docs = []\n",
    "with MPRester(API_KEY) as mpr:\n",
    "    docs =  mpr.materials.summary.search(elements=[\"C\", \"S\"], \n",
    "                              num_elements =(2,2))\n",
    "    for doc in docs:\n",
    "        material_docs.append(doc)\n",
    "        material_ids.append(doc.material_id)\n",
    "        "
   ]
  },
  {
   "cell_type": "code",
   "execution_count": 27,
   "metadata": {},
   "outputs": [
    {
     "data": {
      "application/vnd.jupyter.widget-view+json": {
       "model_id": "491e6c14bfd44f6286ffb495bc6c2cda",
       "version_major": 2,
       "version_minor": 0
      },
      "text/plain": [
       "Retrieving MaterialsDoc documents:   0%|          | 0/1 [00:00<?, ?it/s]"
      ]
     },
     "metadata": {},
     "output_type": "display_data"
    },
    {
     "name": "stdout",
     "output_type": "stream",
     "text": [
      "['C', 'S']\n"
     ]
    },
    {
     "data": {
      "application/vnd.jupyter.widget-view+json": {
       "model_id": "76677134bb8f42ac8635b6c3ac30eb9e",
       "version_major": 2,
       "version_minor": 0
      },
      "text/plain": [
       "Retrieving MaterialsDoc documents:   0%|          | 0/1 [00:00<?, ?it/s]"
      ]
     },
     "metadata": {},
     "output_type": "display_data"
    },
    {
     "name": "stdout",
     "output_type": "stream",
     "text": [
      "['C', 'S']\n"
     ]
    },
    {
     "data": {
      "application/vnd.jupyter.widget-view+json": {
       "model_id": "4b7b49a3e1b549d78a123e48451350d7",
       "version_major": 2,
       "version_minor": 0
      },
      "text/plain": [
       "Retrieving MaterialsDoc documents:   0%|          | 0/1 [00:00<?, ?it/s]"
      ]
     },
     "metadata": {},
     "output_type": "display_data"
    },
    {
     "name": "stdout",
     "output_type": "stream",
     "text": [
      "['C', 'S']\n"
     ]
    },
    {
     "data": {
      "application/vnd.jupyter.widget-view+json": {
       "model_id": "f00cb3db6a944e4292e430fec5867a8a",
       "version_major": 2,
       "version_minor": 0
      },
      "text/plain": [
       "Retrieving MaterialsDoc documents:   0%|          | 0/1 [00:00<?, ?it/s]"
      ]
     },
     "metadata": {},
     "output_type": "display_data"
    },
    {
     "name": "stdout",
     "output_type": "stream",
     "text": [
      "['C', 'S']\n"
     ]
    },
    {
     "data": {
      "application/vnd.jupyter.widget-view+json": {
       "model_id": "bbce4313699c4891ab32344cbea391df",
       "version_major": 2,
       "version_minor": 0
      },
      "text/plain": [
       "Retrieving MaterialsDoc documents:   0%|          | 0/1 [00:00<?, ?it/s]"
      ]
     },
     "metadata": {},
     "output_type": "display_data"
    },
    {
     "name": "stdout",
     "output_type": "stream",
     "text": [
      "['C', 'S']\n"
     ]
    },
    {
     "data": {
      "application/vnd.jupyter.widget-view+json": {
       "model_id": "e9a60b25477241cfa8c321a1a2bde572",
       "version_major": 2,
       "version_minor": 0
      },
      "text/plain": [
       "Retrieving MaterialsDoc documents:   0%|          | 0/1 [00:00<?, ?it/s]"
      ]
     },
     "metadata": {},
     "output_type": "display_data"
    },
    {
     "name": "stdout",
     "output_type": "stream",
     "text": [
      "['C', 'S']\n"
     ]
    },
    {
     "data": {
      "application/vnd.jupyter.widget-view+json": {
       "model_id": "102aa00624824eb699f044772a1db2c8",
       "version_major": 2,
       "version_minor": 0
      },
      "text/plain": [
       "Retrieving MaterialsDoc documents:   0%|          | 0/1 [00:00<?, ?it/s]"
      ]
     },
     "metadata": {},
     "output_type": "display_data"
    },
    {
     "name": "stdout",
     "output_type": "stream",
     "text": [
      "['C', 'S']\n"
     ]
    },
    {
     "data": {
      "application/vnd.jupyter.widget-view+json": {
       "model_id": "600f30457e66488ea5393d2a37e48da0",
       "version_major": 2,
       "version_minor": 0
      },
      "text/plain": [
       "Retrieving MaterialsDoc documents:   0%|          | 0/1 [00:00<?, ?it/s]"
      ]
     },
     "metadata": {},
     "output_type": "display_data"
    },
    {
     "name": "stdout",
     "output_type": "stream",
     "text": [
      "['C', 'S']\n"
     ]
    },
    {
     "data": {
      "application/vnd.jupyter.widget-view+json": {
       "model_id": "d07e207ab550477d80cdc6279481dce6",
       "version_major": 2,
       "version_minor": 0
      },
      "text/plain": [
       "Retrieving MaterialsDoc documents:   0%|          | 0/1 [00:00<?, ?it/s]"
      ]
     },
     "metadata": {},
     "output_type": "display_data"
    },
    {
     "name": "stdout",
     "output_type": "stream",
     "text": [
      "['C', 'S']\n"
     ]
    },
    {
     "data": {
      "application/vnd.jupyter.widget-view+json": {
       "model_id": "5453fb31a5d044dea4ba4b3f763fb551",
       "version_major": 2,
       "version_minor": 0
      },
      "text/plain": [
       "Retrieving MaterialsDoc documents:   0%|          | 0/1 [00:00<?, ?it/s]"
      ]
     },
     "metadata": {},
     "output_type": "display_data"
    },
    {
     "name": "stdout",
     "output_type": "stream",
     "text": [
      "['C', 'S']\n"
     ]
    },
    {
     "data": {
      "application/vnd.jupyter.widget-view+json": {
       "model_id": "ca9baa87006b473baa39dfdb62c7d9c3",
       "version_major": 2,
       "version_minor": 0
      },
      "text/plain": [
       "Retrieving MaterialsDoc documents:   0%|          | 0/1 [00:00<?, ?it/s]"
      ]
     },
     "metadata": {},
     "output_type": "display_data"
    },
    {
     "name": "stdout",
     "output_type": "stream",
     "text": [
      "['C', 'S']\n"
     ]
    },
    {
     "data": {
      "application/vnd.jupyter.widget-view+json": {
       "model_id": "99fdd5595b014ebcb1f79d6de8fbe9ae",
       "version_major": 2,
       "version_minor": 0
      },
      "text/plain": [
       "Retrieving MaterialsDoc documents:   0%|          | 0/1 [00:00<?, ?it/s]"
      ]
     },
     "metadata": {},
     "output_type": "display_data"
    },
    {
     "name": "stdout",
     "output_type": "stream",
     "text": [
      "['C', 'S']\n"
     ]
    }
   ],
   "source": [
    "def convert_to_poscar(input_text):\n",
    "    lines = input_text.strip().split('\\n')\n",
    "    try:\n",
    "        # Extract element types from a dedicated line and their quantities from the next line\n",
    "        elements = lines[5].split()  # Assuming 'C S' is on the seventh line\n",
    "        counts = lines[6].split()  # Assuming '1 30' is on the eighth line\n",
    "        print(elements)\n",
    "        # Parse the scaling factor and lattice vectors\n",
    "        scaling_factor = float(lines[1].strip())\n",
    "        lattice_vectors = lines[2:5]\n",
    "\n",
    "        # Process lattice vectors\n",
    "        formatted_lattice_vectors = [\n",
    "            f\"{float(vec.split()[0]):>20.10f} {float(vec.split()[1]):>20.10f} {float(vec.split()[2]):>20.10f}\"\n",
    "            for vec in lattice_vectors\n",
    "        ]\n",
    "\n",
    "        # Prepare the formatted header information\n",
    "        poscar_output = [\n",
    "            \"POSCAR(15)\",\n",
    "            f\"{scaling_factor:.10f}\",\n",
    "            *formatted_lattice_vectors,\n",
    "            \"   \" + \"   \".join(elements),\n",
    "            \"   \" + \"   \".join(counts),\n",
    "            \"Direct\"\n",
    "        ]\n",
    "\n",
    "        # Process and format positions, which begin after the 'Direct' line in the input\n",
    "        positions = lines[8:]  # This assumes positions start at line 10\n",
    "        formatted_positions = [\n",
    "            f\"{float(pos.split()[0]):>16.10f} {float(pos.split()[1]):>16.10f} {float(pos.split()[2]):>16.10f}\"\n",
    "            for pos in positions if pos.strip()  # Ensure there's data on the line\n",
    "        ]\n",
    "        poscar_output.extend(formatted_positions)\n",
    "\n",
    "        return \"\\n\".join(poscar_output)\n",
    "\n",
    "    except IndexError as e:\n",
    "        return f\"Error processing input: {str(e)}\"\n",
    "    except ValueError as e:\n",
    "        return f\"Error processing numbers: {str(e)}\"\n",
    "\n",
    "\n",
    "\n",
    "from pymatgen.ext.matproj import MPRester\n",
    "from pymatgen.io.vasp.sets import Poscar\n",
    "material_poscars = []\n",
    "for material_id in material_ids:\n",
    "    with MPRester(API_KEY) as mpr:\n",
    "        structure = mpr.materials.get_structure_by_material_id(material_id)\n",
    "        # 生成POSCAR对象\n",
    "        poscar = Poscar(structure)\n",
    "\n",
    "        # 将POSCAR对象写入文件\n",
    "        poscar.write_file(\"poscar/POSCAR_{}.vasp\".format(material_id))\n",
    "\n",
    "        f = open(\"poscar/POSCAR_{}.vasp\".format(material_id), 'r')\n",
    "        poscar_str = f.read()\n",
    "        f.close()\n",
    "        poscar_converted = convert_to_poscar(poscar_str)\n",
    "        material_poscars.append(poscar_converted)\n",
    "\n",
    "        "
   ]
  },
  {
   "cell_type": "code",
   "execution_count": 57,
   "metadata": {},
   "outputs": [
    {
     "name": "stdout",
     "output_type": "stream",
     "text": [
      "Inserted document IDs: [ObjectId('6634fd42036ac3595fa5d53b'), ObjectId('6634fd42036ac3595fa5d53c'), ObjectId('6634fd42036ac3595fa5d53d'), ObjectId('6634fd42036ac3595fa5d53e'), ObjectId('6634fd42036ac3595fa5d53f'), ObjectId('6634fd42036ac3595fa5d540'), ObjectId('6634fd42036ac3595fa5d541'), ObjectId('6634fd42036ac3595fa5d542'), ObjectId('6634fd42036ac3595fa5d543'), ObjectId('6634fd42036ac3595fa5d544'), ObjectId('6634fd42036ac3595fa5d545'), ObjectId('6634fd42036ac3595fa5d546')]\n"
     ]
    }
   ],
   "source": [
    "from pymongo import MongoClient\n",
    "import pandas as pd\n",
    "from django.http import HttpResponse, JsonResponse\n",
    "from django.views.decorators.http import require_http_methods\n",
    "import hashlib\n",
    "import json\n",
    "\n",
    "# Connect to MongoDB\n",
    "client = MongoClient(host='127.0.0.1', port=27017)  # Use localhost for a standard local MongoDB instance\n",
    "db = client['materialdb']  # Database name\n",
    "collection_poscar = db['poscar']  # Collection name\n",
    "# Function to insert a single POSCAR entry\n",
    "def insert_poscar(mid, poscar_content):\n",
    "    # Compute the MD5 hash of the POSCAR content\n",
    "    md5 = hashlib.md5(poscar_content.encode('utf-8')).hexdigest()\n",
    "    typ = \"application/octet-stream\"  # Type of the file content\n",
    "\n",
    "    # Create and insert the document\n",
    "    result = collection_poscar.insert_one({\n",
    "        \"material_id\": mid,\n",
    "        \"md5\": md5,\n",
    "        \"type\": typ,\n",
    "        \"body\": poscar_content\n",
    "    })\n",
    "    return result.inserted_id\n",
    "\n",
    "# Insert each POSCAR into MongoDB\n",
    "inserted_ids = []\n",
    "for mid, poscar_content in zip(material_ids, material_poscars):\n",
    "    inserted_id = insert_poscar(mid, poscar_content)\n",
    "    inserted_ids.append(inserted_id)\n",
    "\n",
    "# Print the result of the insertion\n",
    "print(f\"Inserted document IDs: {inserted_ids}\")\n",
    "\n",
    "\n"
   ]
  },
  {
   "cell_type": "code",
   "execution_count": 46,
   "metadata": {},
   "outputs": [
    {
     "name": "stdout",
     "output_type": "stream",
     "text": [
      "12\n"
     ]
    }
   ],
   "source": [
    "print(len(inserted_ids))"
   ]
  },
  {
   "cell_type": "code",
   "execution_count": 55,
   "metadata": {},
   "outputs": [
    {
     "name": "stdout",
     "output_type": "stream",
     "text": [
      "Data successfully written to materials_information.xlsx\n"
     ]
    }
   ],
   "source": [
    "import pandas as pd\n",
    "from bson import ObjectId\n",
    "\n",
    "# Assuming material_docs, material_ids, and inserted_ids are already defined and populated with your data\n",
    "data_rows = []\n",
    "\n",
    "# Validate that we have materials to process and that material_ids and inserted_ids are provided\n",
    "if material_docs and material_ids and inserted_ids and len(material_docs) == len(material_ids) == len(inserted_ids):\n",
    "    # Generate column names from the attributes of the first document, excluding 'material_id'\n",
    "    columns = [attr for attr in dir(material_docs[0]) if not attr.startswith('__') and not callable(getattr(material_docs[0], attr))]\n",
    "    # Construct data rows by combining material_ids with other attributes of documents\n",
    "    for material_id, doc, inserted_id in zip(material_ids, material_docs, inserted_ids):\n",
    "        # Convert ObjectId to hexadecimal string\n",
    "        numeric_id = str(inserted_id)  # directly converts ObjectId to its hexadecimal string\n",
    "        poscar = numeric_id  # Storing as a list containing only the numeric part\n",
    "        row = [material_id] + [getattr(doc, col) for col in columns if hasattr(doc, col)] + [poscar]\n",
    "        data_rows.append(row)\n",
    "    \n",
    "    # Create DataFrame with 'material_id' as the first column and 'poscar' as the last column\n",
    "    df = pd.DataFrame(data_rows, columns=['material_id'] + columns + ['poscar'])\n",
    "\n",
    "    filename = 'materials_information.xlsx'\n",
    "    df.to_excel(filename, index=False)\n",
    "\n",
    "    print(f'Data successfully written to {filename}')\n",
    "else:\n",
    "    print(\"Check that material_docs, material_ids, and inserted_ids are properly defined and have matching lengths.\")\n"
   ]
  },
  {
   "cell_type": "code",
   "execution_count": 58,
   "metadata": {},
   "outputs": [
    {
     "name": "stdout",
     "output_type": "stream",
     "text": [
      "Inserted 12 documents into MongoDB.\n"
     ]
    }
   ],
   "source": [
    "from server.app.pymongo import MongoClient\n",
    "import pandas as pd\n",
    "\n",
    "# Connect to MongoDB\n",
    "client = MongoClient(host='127.0.0.1', port=27017)  # Adjust host and port as necessary\n",
    "db = client['materialdb']  # Database name\n",
    "collection = db['materials']  # Collection name\n",
    "\n",
    "# Load Excel file\n",
    "filename = 'materials_information.xlsx'  # Update this to the path of your Excel file\n",
    "df = pd.read_excel(filename)\n",
    "\n",
    "# Convert DataFrame to dictionary and insert into MongoDB\n",
    "documents = df.to_dict(orient='records')  # Converts each row to a dictionary with column names as keys\n",
    "\n",
    "# Insert documents into MongoDB\n",
    "result = collection.insert_many(documents)\n",
    "\n",
    "# Print the result of the insertion\n",
    "print(f\"Inserted {len(result.inserted_ids)} documents into MongoDB.\")\n"
   ]
  },
  {
   "cell_type": "code",
   "execution_count": 20,
   "metadata": {},
   "outputs": [],
   "source": []
  },
  {
   "cell_type": "code",
   "execution_count": 21,
   "metadata": {},
   "outputs": [
    {
     "name": "stdout",
     "output_type": "stream",
     "text": [
      "['C', 'S']\n"
     ]
    }
   ],
   "source": [
    "old =\"\"\"C1 S30\n",
    "1.0\n",
    "  18.5068620000000017    7.8089940000000002    0.0000000000000000\n",
    " -18.5068620000000017    7.8089940000000002    0.0000000000000000\n",
    "   0.0000000000000000    0.6499130000000000   16.4418429999999987\n",
    "C S\n",
    "1 30\n",
    "direct\n",
    "   0.0000000000000000    0.0000000000000000    0.0000000000000000 C\n",
    "   0.5257849999999999    0.4744880000000000    0.2660380000000000 S\n",
    "   0.4742150000000000    0.5255120000000000    0.7339620000000000 S\n",
    "   0.4607620000000000    0.2627350000000000    0.5372990000000000 S\n",
    "   0.5255120000000000    0.4742150000000000    0.7339620000000000 S\n",
    "   0.5392380000000000    0.7372649999999999    0.4627010000000000 S\n",
    "   0.4744880000000000    0.5257849999999999    0.2660380000000000 S\n",
    "   0.2546660000000000    0.5261160000000000    0.4598930000000000 S\n",
    "   0.7372649999999999    0.5392380000000000    0.4627010000000000 S\n",
    "   0.7453340000000001    0.4738840000000000    0.5401070000000000 S\n",
    "   0.2627350000000000    0.4607620000000000    0.5372990000000000 S\n",
    "   0.4738840000000000    0.7453340000000001    0.5401070000000000 S\n",
    "   0.5261160000000000    0.2546660000000000    0.4598930000000000 S\n",
    "   0.0049790000000000    0.3169380000000000    0.4996920000000000 S\n",
    "   0.9950210000000000    0.6830619999999999    0.5003080000000000 S\n",
    "   0.3426900000000000    0.5352830000000000    0.0000910000000000 S\n",
    "   0.6830619999999999    0.9950210000000000    0.5003080000000000 S\n",
    "   0.6573099999999999    0.4647170000000000    0.9999090000000000 S\n",
    "   0.3169380000000000    0.0049790000000000    0.4996920000000000 S\n",
    "   0.4997530000000000    0.0000840000000000    0.3134800000000000 S\n",
    "   0.4647170000000000    0.6573099999999999    0.9999090000000000 S\n",
    "   0.5002470000000000    0.9999160000000000    0.6865200000000000 S\n",
    "   0.5352830000000000    0.3426900000000000    0.0000910000000000 S\n",
    "   0.9999160000000000    0.5002470000000000    0.6865200000000000 S\n",
    "   0.0000840000000000    0.4997530000000000    0.3134800000000000 S\n",
    "   0.9977680000000000    0.9977680000000000    0.0944910000000000 S\n",
    "   0.0022320000000000    0.0022320000000000    0.9055090000000000 S\n",
    "   0.9678220000000000    0.1538000000000000    0.9985140000000000 S\n",
    "   0.0321780000000000    0.8462000000000000    0.0014860000000000 S\n",
    "   0.1538000000000000    0.9678220000000000    0.9985140000000000 S\n",
    "   0.8462000000000000    0.0321780000000000    0.0014860000000000 S\n",
    "\"\"\"\n",
    "\n",
    "new = convert_to_poscar(old)\n",
    "# write new into a file\n",
    "with open('new_poscar.vasp', 'w') as f:\n",
    "    f.write(new)"
   ]
  },
  {
   "cell_type": "code",
   "execution_count": null,
   "metadata": {},
   "outputs": [],
   "source": [
    "list_of_available_fields"
   ]
  }
 ],
 "metadata": {
  "kernelspec": {
   "display_name": "base",
   "language": "python",
   "name": "python3"
  },
  "language_info": {
   "codemirror_mode": {
    "name": "ipython",
    "version": 3
   },
   "file_extension": ".py",
   "mimetype": "text/x-python",
   "name": "python",
   "nbconvert_exporter": "python",
   "pygments_lexer": "ipython3",
   "version": "3.9.18"
  },
  "orig_nbformat": 4
 },
 "nbformat": 4,
 "nbformat_minor": 2
}
